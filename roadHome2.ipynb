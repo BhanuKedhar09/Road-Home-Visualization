{
 "cells": [
  {
   "cell_type": "code",
   "execution_count": 1,
   "metadata": {},
   "outputs": [],
   "source": [
    "import pandas as pd\n",
    "import numpy as np\n",
    "import requests\n",
    "import zipfile\n",
    "import io\n",
    "import aiohttp\n",
    "import asyncio\n",
    "import os\n",
    "import time\n",
    "import shutil\n",
    "import nest_asyncio; nest_asyncio.apply()\n",
    "import pandas as pd\n",
    "import numpy as np\n",
    "from pathlib import Path\n",
    "import geopandas as gpd"
   ]
  },
  {
   "cell_type": "code",
   "execution_count": 2,
   "metadata": {},
   "outputs": [],
   "source": [
    "df = pd.read_csv('roadhome_for_datastore.csv')"
   ]
  },
  {
   "cell_type": "markdown",
   "metadata": {},
   "source": [
    "Unique Stfid's and taking only first numbers of the stfid because first two represents state and next three reps parish."
   ]
  },
  {
   "cell_type": "code",
   "execution_count": 3,
   "metadata": {},
   "outputs": [],
   "source": [
    "stfids = set(df[\"STFID\"])\n",
    "stfidss = []\n",
    "for stfid in stfids:\n",
    "    stfidss.append(str(stfid)[:5])"
   ]
  },
  {
   "cell_type": "code",
   "execution_count": 4,
   "metadata": {},
   "outputs": [],
   "source": [
    "unique_parish_stfid_codes = list(set(stfidss))"
   ]
  },
  {
   "cell_type": "code",
   "execution_count": 5,
   "metadata": {},
   "outputs": [],
   "source": [
    "sites = []\n",
    "for x in unique_parish_stfid_codes:\n",
    "    url = f'https://www2.census.gov/geo/tiger/TIGER2010/TABBLOCK/2000/tl_2010_{x}_tabblock00.zip'\n",
    "    sites.append(url)"
   ]
  },
  {
   "cell_type": "code",
   "execution_count": 6,
   "metadata": {},
   "outputs": [
    {
     "name": "stdout",
     "output_type": "stream",
     "text": [
      "https://www2.census.gov/geo/tiger/TIGER2010/TABBLOCK/2000/tl_2010_22047_tabblock00.zip\n",
      "https://www2.census.gov/geo/tiger/TIGER2010/TABBLOCK/2000/tl_2010_22117_tabblock00.zip\n",
      "https://www2.census.gov/geo/tiger/TIGER2010/TABBLOCK/2000/tl_2010_22105_tabblock00.zip\n",
      "https://www2.census.gov/geo/tiger/TIGER2010/TABBLOCK/2000/tl_2010_22103_tabblock00.zip\n",
      "https://www2.census.gov/geo/tiger/TIGER2010/TABBLOCK/2000/tl_2010_22087_tabblock00.zip\n",
      "https://www2.census.gov/geo/tiger/TIGER2010/TABBLOCK/2000/tl_2010_22125_tabblock00.zip\n",
      "https://www2.census.gov/geo/tiger/TIGER2010/TABBLOCK/2000/tl_2010_22063_tabblock00.zip\n",
      "https://www2.census.gov/geo/tiger/TIGER2010/TABBLOCK/2000/tl_2010_22075_tabblock00.zip\n",
      "https://www2.census.gov/geo/tiger/TIGER2010/TABBLOCK/2000/tl_2010_22057_tabblock00.zip\n",
      "https://www2.census.gov/geo/tiger/TIGER2010/TABBLOCK/2000/tl_2010_22109_tabblock00.zip\n",
      "https://www2.census.gov/geo/tiger/TIGER2010/TABBLOCK/2000/tl_2010_22071_tabblock00.zip\n",
      "https://www2.census.gov/geo/tiger/TIGER2010/TABBLOCK/2000/tl_2010_22099_tabblock00.zip\n",
      "https://www2.census.gov/geo/tiger/TIGER2010/TABBLOCK/2000/tl_2010_22085_tabblock00.zip\n",
      "https://www2.census.gov/geo/tiger/TIGER2010/TABBLOCK/2000/tl_2010_22093_tabblock00.zip\n",
      "https://www2.census.gov/geo/tiger/TIGER2010/TABBLOCK/2000/tl_2010_22089_tabblock00.zip\n",
      "https://www2.census.gov/geo/tiger/TIGER2010/TABBLOCK/2000/tl_2010_22037_tabblock00.zip\n",
      "https://www2.census.gov/geo/tiger/TIGER2010/TABBLOCK/2000/tl_2010_22001_tabblock00.zip\n",
      "https://www2.census.gov/geo/tiger/TIGER2010/TABBLOCK/2000/tl_2010_22053_tabblock00.zip\n",
      "https://www2.census.gov/geo/tiger/TIGER2010/TABBLOCK/2000/tl_2010_22045_tabblock00.zip\n",
      "https://www2.census.gov/geo/tiger/TIGER2010/TABBLOCK/2000/tl_2010_22113_tabblock00.zip\n",
      "https://www2.census.gov/geo/tiger/TIGER2010/TABBLOCK/2000/tl_2010_22077_tabblock00.zip\n",
      "https://www2.census.gov/geo/tiger/TIGER2010/TABBLOCK/2000/tl_2010_22033_tabblock00.zip\n",
      "https://www2.census.gov/geo/tiger/TIGER2010/TABBLOCK/2000/tl_2010_22005_tabblock00.zip\n",
      "https://www2.census.gov/geo/tiger/TIGER2010/TABBLOCK/2000/tl_2010_22011_tabblock00.zip\n",
      "https://www2.census.gov/geo/tiger/TIGER2010/TABBLOCK/2000/tl_2010_22039_tabblock00.zip\n",
      "https://www2.census.gov/geo/tiger/TIGER2010/TABBLOCK/2000/tl_2010_22095_tabblock00.zip\n",
      "https://www2.census.gov/geo/tiger/TIGER2010/TABBLOCK/2000/tl_2010_22023_tabblock00.zip\n",
      "https://www2.census.gov/geo/tiger/TIGER2010/TABBLOCK/2000/tl_2010_22097_tabblock00.zip\n",
      "https://www2.census.gov/geo/tiger/TIGER2010/TABBLOCK/2000/tl_2010_22051_tabblock00.zip\n",
      "https://www2.census.gov/geo/tiger/TIGER2010/TABBLOCK/2000/tl_2010_22019_tabblock00.zip\n",
      "https://www2.census.gov/geo/tiger/TIGER2010/TABBLOCK/2000/tl_2010_22055_tabblock00.zip\n",
      "https://www2.census.gov/geo/tiger/TIGER2010/TABBLOCK/2000/tl_2010_22115_tabblock00.zip\n",
      "https://www2.census.gov/geo/tiger/TIGER2010/TABBLOCK/2000/tl_2010_22121_tabblock00.zip\n",
      "https://www2.census.gov/geo/tiger/TIGER2010/TABBLOCK/2000/tl_2010_22007_tabblock00.zip\n",
      "https://www2.census.gov/geo/tiger/TIGER2010/TABBLOCK/2000/tl_2010_22091_tabblock00.zip\n",
      "https://www2.census.gov/geo/tiger/TIGER2010/TABBLOCK/2000/tl_2010_22003_tabblock00.zip\n",
      "https://www2.census.gov/geo/tiger/TIGER2010/TABBLOCK/2000/tl_2010_22101_tabblock00.zip\n"
     ]
    }
   ],
   "source": [
    "for site in sites:\n",
    "    print(site)"
   ]
  },
  {
   "cell_type": "code",
   "execution_count": 7,
   "metadata": {},
   "outputs": [],
   "source": [
    "files =[]\n",
    "files_l =[]\n",
    "file_names = []\n",
    "zip_folder = \"location-detail-files\"\n",
    "extracted_folder = \"extracted\"\n",
    "shp_folder = \"shp_files\"\n",
    "\n",
    "if not os.path.exists('location-detail-files'):\n",
    "    os.mkdir('location-detail-files')\n",
    "\n",
    "if not os.path.exists('extracted'):\n",
    "    os.mkdir('extracted')\n",
    "\n",
    "if not os.path.exists('shp_files'):\n",
    "    os.mkdir('shp_files')\n"
   ]
  },
  {
   "cell_type": "code",
   "execution_count": 8,
   "metadata": {},
   "outputs": [],
   "source": [
    "def download_zipfile(url, destination):\n",
    "    response = requests.get(url, stream=True)\n",
    "    with open(destination, 'wb') as file:\n",
    "        for chunk in response.iter_content(chunk_size=128):\n",
    "            file.write(chunk)"
   ]
  },
  {
   "cell_type": "code",
   "execution_count": 9,
   "metadata": {},
   "outputs": [],
   "source": [
    "def count_downloaded_files(folder):\n",
    "    return len([f for f in os.listdir(folder) if os.path.isfile(os.path.join(folder, f))])"
   ]
  },
  {
   "cell_type": "code",
   "execution_count": 10,
   "metadata": {},
   "outputs": [],
   "source": [
    "destination = \"location-detail-files/\"\n",
    "for site in list(set(sites)):\n",
    "    download_zipfile(site, destination + site.split('/')[-1])\n"
   ]
  },
  {
   "cell_type": "code",
   "execution_count": 11,
   "metadata": {},
   "outputs": [
    {
     "data": {
      "text/plain": [
       "(37, 38)"
      ]
     },
     "execution_count": 11,
     "metadata": {},
     "output_type": "execute_result"
    }
   ],
   "source": [
    "len(sites), count_downloaded_files(zip_folder)\n"
   ]
  },
  {
   "cell_type": "markdown",
   "metadata": {},
   "source": [
    "In the above cell one count higher is because macOS creates default '.DS_Store' for all folders."
   ]
  },
  {
   "cell_type": "code",
   "execution_count": 12,
   "metadata": {},
   "outputs": [],
   "source": [
    "def unzip_and_extract_shp(zip_folder, extraction_folder):\n",
    "    zip_files = [f for f in os.listdir(zip_folder) if f.endswith('.zip')]\n",
    "    \n",
    "    for zip_file in zip_files:\n",
    "        with zipfile.ZipFile(os.path.join(zip_folder, zip_file), 'r') as zip_ref:\n",
    "            zip_ref.extractall(extraction_folder)\n",
    "\n",
    "    shp_files = [f for f in os.listdir(extraction_folder) if f.endswith('.shp')]\n",
    "    \n",
    "    return shp_files"
   ]
  },
  {
   "cell_type": "code",
   "execution_count": 13,
   "metadata": {},
   "outputs": [
    {
     "name": "stdout",
     "output_type": "stream",
     "text": [
      "Extracted .shp files: ['tl_2010_22063_tabblock00.shp', 'tl_2010_22089_tabblock00.shp', 'tl_2010_22007_tabblock00.shp', 'tl_2010_22071_tabblock00.shp', 'tl_2010_22103_tabblock00.shp', 'tl_2010_22093_tabblock00.shp', 'tl_2010_22087_tabblock00.shp', 'tl_2010_22117_tabblock00.shp', 'tl_2010_22001_tabblock00.shp', 'tl_2010_22095_tabblock00.shp', 'tl_2010_22077_tabblock00.shp', 'tl_2010_22105_tabblock00.shp', 'tl_2010_22019_tabblock00.shp', 'tl_2010_22097_tabblock00.shp', 'tl_2010_22011_tabblock00.shp', 'tl_2010_22075_tabblock00.shp', 'tl_2010_22085_tabblock00.shp', 'tl_2010_22003_tabblock00.shp', 'tl_2010_22115_tabblock00.shp', 'tl_2010_22099_tabblock00.shp', 'tl_2010_22101_tabblock00.shp', 'tl_2010_22109_tabblock00.shp', 'tl_2010_22091_tabblock00.shp', 'tl_2010_22005_tabblock00.shp', 'tl_2010_22113_tabblock00.shp', 'tl_2010_22055_tabblock00.shp', 'tl_2010_22039_tabblock00.shp', 'tl_2010_22023_tabblock00.shp', 'tl_2010_22047_tabblock00.shp', 'tl_2010_22121_tabblock00.shp', 'tl_2010_22037_tabblock00.shp', 'tl_2010_22053_tabblock00.shp', 'tl_2010_22051_tabblock00.shp', 'tl_2010_22045_tabblock00.shp', 'tl_2010_22057_tabblock00.shp', 'tl_2010_22033_tabblock00.shp', 'tl_2010_22125_tabblock00.shp']\n"
     ]
    }
   ],
   "source": [
    "zip_folder = \"location-detail-files/\"\n",
    "extraction_folder = \"extracted-files/\"\n",
    "\n",
    "shp_files = unzip_and_extract_shp(zip_folder, extraction_folder)\n",
    "\n",
    "print(\"Extracted .shp files:\", shp_files, )"
   ]
  },
  {
   "cell_type": "code",
   "execution_count": 14,
   "metadata": {},
   "outputs": [
    {
     "data": {
      "text/plain": [
       "37"
      ]
     },
     "execution_count": 14,
     "metadata": {},
     "output_type": "execute_result"
    }
   ],
   "source": [
    "len(shp_files)"
   ]
  },
  {
   "cell_type": "code",
   "execution_count": 15,
   "metadata": {},
   "outputs": [],
   "source": [
    "df = pd.read_csv('roadhome_for_datastore.csv')"
   ]
  },
  {
   "cell_type": "markdown",
   "metadata": {},
   "source": [
    "Check out this link for data dict for .shp files \n",
    "https://www2.census.gov/geo/pdfs/maps-data/data/tiger/tgrshp2009/TGRSHP09AA.pdf\n",
    "<br>I have downloded only \n",
    "<br>Block County-based Shapefile (Census 2000)\n",
    "<br>File Name: tl_2009_state-county FIPS_tabblock00.shp example : tl_2010_22125_tabblock00.shp"
   ]
  },
  {
   "cell_type": "code",
   "execution_count": null,
   "metadata": {},
   "outputs": [],
   "source": []
  },
  {
   "cell_type": "code",
   "execution_count": 16,
   "metadata": {},
   "outputs": [],
   "source": [
    "\n",
    "shp_folder = \"extracted-files/\"\n",
    "gdf_list = []\n",
    "for file_name in os.listdir(shp_folder):\n",
    "    if file_name.endswith(\".shp\"):\n",
    "        file_path = os.path.join(shp_folder, file_name)\n",
    "        gdf = gpd.read_file(file_path)\n",
    "        gdf_list.append(gdf)\n",
    "\n",
    "# Concatenate GeoPandas DataFrames by rows\n",
    "final_gdf = pd.concat(gdf_list, ignore_index=True)\n"
   ]
  },
  {
   "cell_type": "markdown",
   "metadata": {},
   "source": [
    "Deriving a new attribute CENSUSTRACK(STATEFP00 + COUNTYFP00 + TRACTCE00) which is same as \"Census Track\" in road_home_dataset\n",
    "\n",
    "This attribute is useful when STFID of road_home dataset and BLKIDFP00 of GDF are not same"
   ]
  },
  {
   "cell_type": "code",
   "execution_count": 17,
   "metadata": {},
   "outputs": [],
   "source": [
    "final_gdf[\"CENSUSTRACK\"] = final_gdf[\"STATEFP00\"].astype(str) + final_gdf[\"COUNTYFP00\"].astype(str) + final_gdf[\"TRACTCE00\"].astype(str)"
   ]
  },
  {
   "cell_type": "code",
   "execution_count": 18,
   "metadata": {},
   "outputs": [
    {
     "data": {
      "text/html": [
       "<div>\n",
       "<style scoped>\n",
       "    .dataframe tbody tr th:only-of-type {\n",
       "        vertical-align: middle;\n",
       "    }\n",
       "\n",
       "    .dataframe tbody tr th {\n",
       "        vertical-align: top;\n",
       "    }\n",
       "\n",
       "    .dataframe thead th {\n",
       "        text-align: right;\n",
       "    }\n",
       "</style>\n",
       "<table border=\"1\" class=\"dataframe\">\n",
       "  <thead>\n",
       "    <tr style=\"text-align: right;\">\n",
       "      <th></th>\n",
       "      <th>STATEFP00</th>\n",
       "      <th>COUNTYFP00</th>\n",
       "      <th>TRACTCE00</th>\n",
       "      <th>BLOCKCE00</th>\n",
       "      <th>BLKIDFP00</th>\n",
       "      <th>NAME00</th>\n",
       "      <th>MTFCC00</th>\n",
       "      <th>UR00</th>\n",
       "      <th>UACE00</th>\n",
       "      <th>FUNCSTAT00</th>\n",
       "      <th>ALAND00</th>\n",
       "      <th>AWATER00</th>\n",
       "      <th>INTPTLAT00</th>\n",
       "      <th>INTPTLON00</th>\n",
       "      <th>geometry</th>\n",
       "      <th>CENSUSTRACK</th>\n",
       "    </tr>\n",
       "  </thead>\n",
       "  <tbody>\n",
       "    <tr>\n",
       "      <th>0</th>\n",
       "      <td>22</td>\n",
       "      <td>063</td>\n",
       "      <td>040302</td>\n",
       "      <td>2010</td>\n",
       "      <td>220630403022010</td>\n",
       "      <td>Block 2010</td>\n",
       "      <td>G5040</td>\n",
       "      <td>R</td>\n",
       "      <td>NaN</td>\n",
       "      <td>S</td>\n",
       "      <td>2735044</td>\n",
       "      <td>0</td>\n",
       "      <td>+30.5459148</td>\n",
       "      <td>-090.8537834</td>\n",
       "      <td>POLYGON ((-90.85996 30.54781, -90.85991 30.547...</td>\n",
       "      <td>22063040302</td>\n",
       "    </tr>\n",
       "    <tr>\n",
       "      <th>1</th>\n",
       "      <td>22</td>\n",
       "      <td>063</td>\n",
       "      <td>040400</td>\n",
       "      <td>2028</td>\n",
       "      <td>220630404002028</td>\n",
       "      <td>Block 2028</td>\n",
       "      <td>G5040</td>\n",
       "      <td>U</td>\n",
       "      <td>05680</td>\n",
       "      <td>S</td>\n",
       "      <td>20072</td>\n",
       "      <td>0</td>\n",
       "      <td>+30.5008972</td>\n",
       "      <td>-090.8643358</td>\n",
       "      <td>POLYGON ((-90.86422 30.50030, -90.86434 30.500...</td>\n",
       "      <td>22063040400</td>\n",
       "    </tr>\n",
       "    <tr>\n",
       "      <th>2</th>\n",
       "      <td>22</td>\n",
       "      <td>063</td>\n",
       "      <td>040400</td>\n",
       "      <td>2031</td>\n",
       "      <td>220630404002031</td>\n",
       "      <td>Block 2031</td>\n",
       "      <td>G5040</td>\n",
       "      <td>U</td>\n",
       "      <td>05680</td>\n",
       "      <td>S</td>\n",
       "      <td>46482</td>\n",
       "      <td>0</td>\n",
       "      <td>+30.5039122</td>\n",
       "      <td>-090.8660533</td>\n",
       "      <td>POLYGON ((-90.86414 30.50399, -90.86416 30.503...</td>\n",
       "      <td>22063040400</td>\n",
       "    </tr>\n",
       "    <tr>\n",
       "      <th>3</th>\n",
       "      <td>22</td>\n",
       "      <td>063</td>\n",
       "      <td>040400</td>\n",
       "      <td>4018</td>\n",
       "      <td>220630404004018</td>\n",
       "      <td>Block 4018</td>\n",
       "      <td>G5040</td>\n",
       "      <td>U</td>\n",
       "      <td>05680</td>\n",
       "      <td>S</td>\n",
       "      <td>20248</td>\n",
       "      <td>0</td>\n",
       "      <td>+30.4938599</td>\n",
       "      <td>-090.8601758</td>\n",
       "      <td>POLYGON ((-90.86091 30.49340, -90.86107 30.493...</td>\n",
       "      <td>22063040400</td>\n",
       "    </tr>\n",
       "    <tr>\n",
       "      <th>4</th>\n",
       "      <td>22</td>\n",
       "      <td>063</td>\n",
       "      <td>040400</td>\n",
       "      <td>4026</td>\n",
       "      <td>220630404004026</td>\n",
       "      <td>Block 4026</td>\n",
       "      <td>G5040</td>\n",
       "      <td>U</td>\n",
       "      <td>05680</td>\n",
       "      <td>S</td>\n",
       "      <td>183748</td>\n",
       "      <td>0</td>\n",
       "      <td>+30.4870071</td>\n",
       "      <td>-090.8568332</td>\n",
       "      <td>POLYGON ((-90.85887 30.48707, -90.85885 30.487...</td>\n",
       "      <td>22063040400</td>\n",
       "    </tr>\n",
       "  </tbody>\n",
       "</table>\n",
       "</div>"
      ],
      "text/plain": [
       "  STATEFP00 COUNTYFP00 TRACTCE00 BLOCKCE00        BLKIDFP00      NAME00  \\\n",
       "0        22        063    040302      2010  220630403022010  Block 2010   \n",
       "1        22        063    040400      2028  220630404002028  Block 2028   \n",
       "2        22        063    040400      2031  220630404002031  Block 2031   \n",
       "3        22        063    040400      4018  220630404004018  Block 4018   \n",
       "4        22        063    040400      4026  220630404004026  Block 4026   \n",
       "\n",
       "  MTFCC00 UR00 UACE00 FUNCSTAT00  ALAND00  AWATER00   INTPTLAT00  \\\n",
       "0   G5040    R    NaN          S  2735044         0  +30.5459148   \n",
       "1   G5040    U  05680          S    20072         0  +30.5008972   \n",
       "2   G5040    U  05680          S    46482         0  +30.5039122   \n",
       "3   G5040    U  05680          S    20248         0  +30.4938599   \n",
       "4   G5040    U  05680          S   183748         0  +30.4870071   \n",
       "\n",
       "     INTPTLON00                                           geometry  \\\n",
       "0  -090.8537834  POLYGON ((-90.85996 30.54781, -90.85991 30.547...   \n",
       "1  -090.8643358  POLYGON ((-90.86422 30.50030, -90.86434 30.500...   \n",
       "2  -090.8660533  POLYGON ((-90.86414 30.50399, -90.86416 30.503...   \n",
       "3  -090.8601758  POLYGON ((-90.86091 30.49340, -90.86107 30.493...   \n",
       "4  -090.8568332  POLYGON ((-90.85887 30.48707, -90.85885 30.487...   \n",
       "\n",
       "   CENSUSTRACK  \n",
       "0  22063040302  \n",
       "1  22063040400  \n",
       "2  22063040400  \n",
       "3  22063040400  \n",
       "4  22063040400  "
      ]
     },
     "execution_count": 18,
     "metadata": {},
     "output_type": "execute_result"
    }
   ],
   "source": [
    "final_gdf.head()"
   ]
  },
  {
   "cell_type": "code",
   "execution_count": 19,
   "metadata": {},
   "outputs": [
    {
     "data": {
      "text/html": [
       "<div>\n",
       "<style scoped>\n",
       "    .dataframe tbody tr th:only-of-type {\n",
       "        vertical-align: middle;\n",
       "    }\n",
       "\n",
       "    .dataframe tbody tr th {\n",
       "        vertical-align: top;\n",
       "    }\n",
       "\n",
       "    .dataframe thead th {\n",
       "        text-align: right;\n",
       "    }\n",
       "</style>\n",
       "<table border=\"1\" class=\"dataframe\">\n",
       "  <thead>\n",
       "    <tr style=\"text-align: right;\">\n",
       "      <th></th>\n",
       "      <th>Unnamed: 0</th>\n",
       "      <th>Structure Type</th>\n",
       "      <th>GIS City</th>\n",
       "      <th>GIS State</th>\n",
       "      <th>GIS Zip</th>\n",
       "      <th>PARISH</th>\n",
       "      <th>Closing Option</th>\n",
       "      <th>TOTAL_CLOSING_AMOUNT</th>\n",
       "      <th>Total CG Amount</th>\n",
       "      <th>Total ACG Amunt</th>\n",
       "      <th>...</th>\n",
       "      <th>Current Legal Fees</th>\n",
       "      <th>Closing Damage Assessment</th>\n",
       "      <th>PSV at Closing</th>\n",
       "      <th>Closed file - PSV Option 1 With No ACG -excluding Sold Home, Inelig, Deceased and files closed with RHEI &amp; IMM only -23,912</th>\n",
       "      <th>Closed File - Option 2/3, Sold Home, Ineligible, Deceased, and Closed with RHEI and IMM Only</th>\n",
       "      <th>Closed with Approved Unmet Needs (Y/N)</th>\n",
       "      <th>Applicant With Current Insurance (Private and/or Flood) Y/N</th>\n",
       "      <th>Closing Total DOB Amount</th>\n",
       "      <th>Difference between Current PSV and Current Damage Assessment Type 2 (col AG - col AC</th>\n",
       "      <th>ARS File (Yes/No)</th>\n",
       "    </tr>\n",
       "  </thead>\n",
       "  <tbody>\n",
       "    <tr>\n",
       "      <th>0</th>\n",
       "      <td>0</td>\n",
       "      <td>Single (including mobile home)</td>\n",
       "      <td>NEW ORLEANS</td>\n",
       "      <td>LA</td>\n",
       "      <td>70128-3402</td>\n",
       "      <td>Orleans</td>\n",
       "      <td>1.0</td>\n",
       "      <td>70094.69</td>\n",
       "      <td>70094.69</td>\n",
       "      <td>0.00</td>\n",
       "      <td>...</td>\n",
       "      <td>2448.24</td>\n",
       "      <td>153738.26</td>\n",
       "      <td>216000.0</td>\n",
       "      <td>N</td>\n",
       "      <td>N</td>\n",
       "      <td>N</td>\n",
       "      <td>Y</td>\n",
       "      <td>53603.00</td>\n",
       "      <td>-62261.74</td>\n",
       "      <td>N</td>\n",
       "    </tr>\n",
       "    <tr>\n",
       "      <th>1</th>\n",
       "      <td>1</td>\n",
       "      <td>Single (including mobile home)</td>\n",
       "      <td>NEW ORLEANS</td>\n",
       "      <td>LA</td>\n",
       "      <td>70127-1426</td>\n",
       "      <td>Orleans</td>\n",
       "      <td>1.0</td>\n",
       "      <td>50254.60</td>\n",
       "      <td>50254.60</td>\n",
       "      <td>0.00</td>\n",
       "      <td>...</td>\n",
       "      <td>0.00</td>\n",
       "      <td>163850.00</td>\n",
       "      <td>90000.0</td>\n",
       "      <td>Y</td>\n",
       "      <td>N</td>\n",
       "      <td>N</td>\n",
       "      <td>Y</td>\n",
       "      <td>18193.43</td>\n",
       "      <td>141371.15</td>\n",
       "      <td>N</td>\n",
       "    </tr>\n",
       "    <tr>\n",
       "      <th>2</th>\n",
       "      <td>2</td>\n",
       "      <td>Single (including mobile home)</td>\n",
       "      <td>HARVEY</td>\n",
       "      <td>LA</td>\n",
       "      <td>70058-1934</td>\n",
       "      <td>Jefferson</td>\n",
       "      <td>1.0</td>\n",
       "      <td>60090.59</td>\n",
       "      <td>22590.59</td>\n",
       "      <td>0.00</td>\n",
       "      <td>...</td>\n",
       "      <td>0.00</td>\n",
       "      <td>44807.63</td>\n",
       "      <td>130000.0</td>\n",
       "      <td>N</td>\n",
       "      <td>N</td>\n",
       "      <td>Y</td>\n",
       "      <td>Y</td>\n",
       "      <td>22217.04</td>\n",
       "      <td>-85192.37</td>\n",
       "      <td>N</td>\n",
       "    </tr>\n",
       "    <tr>\n",
       "      <th>3</th>\n",
       "      <td>3</td>\n",
       "      <td>Single (including mobile home)</td>\n",
       "      <td>NEW ORLEANS</td>\n",
       "      <td>LA</td>\n",
       "      <td>70127-1415</td>\n",
       "      <td>Orleans</td>\n",
       "      <td>1.0</td>\n",
       "      <td>46500.00</td>\n",
       "      <td>9000.00</td>\n",
       "      <td>0.00</td>\n",
       "      <td>...</td>\n",
       "      <td>0.00</td>\n",
       "      <td>171325.00</td>\n",
       "      <td>109252.0</td>\n",
       "      <td>Y</td>\n",
       "      <td>N</td>\n",
       "      <td>Y</td>\n",
       "      <td>Y</td>\n",
       "      <td>91000.00</td>\n",
       "      <td>141920.37</td>\n",
       "      <td>N</td>\n",
       "    </tr>\n",
       "    <tr>\n",
       "      <th>4</th>\n",
       "      <td>4</td>\n",
       "      <td>Single (including mobile home)</td>\n",
       "      <td>NEW ORLEANS</td>\n",
       "      <td>LA</td>\n",
       "      <td>70125-2954</td>\n",
       "      <td>Orleans</td>\n",
       "      <td>1.0</td>\n",
       "      <td>150000.00</td>\n",
       "      <td>97079.05</td>\n",
       "      <td>22920.95</td>\n",
       "      <td>...</td>\n",
       "      <td>0.00</td>\n",
       "      <td>400750.00</td>\n",
       "      <td>190000.0</td>\n",
       "      <td>N</td>\n",
       "      <td>N</td>\n",
       "      <td>N</td>\n",
       "      <td>Y</td>\n",
       "      <td>92920.95</td>\n",
       "      <td>317507.01</td>\n",
       "      <td>N</td>\n",
       "    </tr>\n",
       "  </tbody>\n",
       "</table>\n",
       "<p>5 rows × 36 columns</p>\n",
       "</div>"
      ],
      "text/plain": [
       "   Unnamed: 0                  Structure Type     GIS City GIS State  \\\n",
       "0           0  Single (including mobile home)  NEW ORLEANS        LA   \n",
       "1           1  Single (including mobile home)  NEW ORLEANS        LA   \n",
       "2           2  Single (including mobile home)       HARVEY        LA   \n",
       "3           3  Single (including mobile home)  NEW ORLEANS        LA   \n",
       "4           4  Single (including mobile home)  NEW ORLEANS        LA   \n",
       "\n",
       "      GIS Zip     PARISH  Closing Option  TOTAL_CLOSING_AMOUNT  \\\n",
       "0  70128-3402    Orleans             1.0              70094.69   \n",
       "1  70127-1426    Orleans             1.0              50254.60   \n",
       "2  70058-1934  Jefferson             1.0              60090.59   \n",
       "3  70127-1415    Orleans             1.0              46500.00   \n",
       "4  70125-2954    Orleans             1.0             150000.00   \n",
       "\n",
       "   Total CG Amount  Total ACG Amunt  ...  Current Legal Fees  \\\n",
       "0         70094.69             0.00  ...             2448.24   \n",
       "1         50254.60             0.00  ...                0.00   \n",
       "2         22590.59             0.00  ...                0.00   \n",
       "3          9000.00             0.00  ...                0.00   \n",
       "4         97079.05         22920.95  ...                0.00   \n",
       "\n",
       "   Closing Damage Assessment  PSV at Closing  \\\n",
       "0                  153738.26        216000.0   \n",
       "1                  163850.00         90000.0   \n",
       "2                   44807.63        130000.0   \n",
       "3                  171325.00        109252.0   \n",
       "4                  400750.00        190000.0   \n",
       "\n",
       "  Closed file - PSV Option 1 With No ACG -excluding Sold Home, Inelig, Deceased and files closed with RHEI & IMM only -23,912  \\\n",
       "0                                                  N                                                                            \n",
       "1                                                  Y                                                                            \n",
       "2                                                  N                                                                            \n",
       "3                                                  Y                                                                            \n",
       "4                                                  N                                                                            \n",
       "\n",
       "   Closed File - Option 2/3, Sold Home, Ineligible, Deceased, and Closed with RHEI and IMM Only  \\\n",
       "0                                                  N                                              \n",
       "1                                                  N                                              \n",
       "2                                                  N                                              \n",
       "3                                                  N                                              \n",
       "4                                                  N                                              \n",
       "\n",
       "  Closed with Approved Unmet Needs (Y/N)  \\\n",
       "0                                      N   \n",
       "1                                      N   \n",
       "2                                      Y   \n",
       "3                                      Y   \n",
       "4                                      N   \n",
       "\n",
       "   Applicant With Current Insurance (Private and/or Flood) Y/N  \\\n",
       "0                                                  Y             \n",
       "1                                                  Y             \n",
       "2                                                  Y             \n",
       "3                                                  Y             \n",
       "4                                                  Y             \n",
       "\n",
       "   Closing Total DOB Amount  \\\n",
       "0                  53603.00   \n",
       "1                  18193.43   \n",
       "2                  22217.04   \n",
       "3                  91000.00   \n",
       "4                  92920.95   \n",
       "\n",
       "   Difference between Current PSV and Current Damage Assessment Type 2 (col AG - col AC  \\\n",
       "0                                          -62261.74                                      \n",
       "1                                          141371.15                                      \n",
       "2                                          -85192.37                                      \n",
       "3                                          141920.37                                      \n",
       "4                                          317507.01                                      \n",
       "\n",
       "   ARS File (Yes/No)  \n",
       "0                  N  \n",
       "1                  N  \n",
       "2                  N  \n",
       "3                  N  \n",
       "4                  N  \n",
       "\n",
       "[5 rows x 36 columns]"
      ]
     },
     "execution_count": 19,
     "metadata": {},
     "output_type": "execute_result"
    }
   ],
   "source": [
    "df.head()"
   ]
  },
  {
   "cell_type": "markdown",
   "metadata": {},
   "source": [
    "First merging latitude and longitude based on stfid"
   ]
  },
  {
   "cell_type": "code",
   "execution_count": 27,
   "metadata": {},
   "outputs": [],
   "source": [
    "final_gdf[\"BLKIDFP00\"] = final_gdf[\"BLKIDFP00\"].astype(int)\n",
    "final_gdf[\"CENSUSTRACK\"] = final_gdf[\"CENSUSTRACK\"].astype(int)\n",
    "# df1 = df.merge(gdf[[\"BLKIDFP00\", \"INTPTLAT00\", \"INTPTLON00\"]], left_on=\"STFID\", right_on=\"BLKIDFP00\", how = \"left\")\n",
    "\n",
    "first_merge_df = df.merge(final_gdf[[\"BLKIDFP00\", \"INTPTLAT00\", \"INTPTLON00\"]], left_on=\"STFID\", right_on=\"BLKIDFP00\", how = \"inner\")"
   ]
  },
  {
   "cell_type": "code",
   "execution_count": 35,
   "metadata": {},
   "outputs": [
    {
     "data": {
      "text/plain": [
       "STFID    22544\n",
       "dtype: int64"
      ]
     },
     "execution_count": 35,
     "metadata": {},
     "output_type": "execute_result"
    }
   ],
   "source": [
    "df[[\"STFID\"]].nunique()"
   ]
  },
  {
   "cell_type": "code",
   "execution_count": 37,
   "metadata": {},
   "outputs": [
    {
     "data": {
      "text/plain": [
       "Unnamed: 0                                                                                                                         0\n",
       "Structure Type                                                                                                                     0\n",
       "GIS City                                                                                                                           0\n",
       "GIS State                                                                                                                          0\n",
       "GIS Zip                                                                                                                            0\n",
       "PARISH                                                                                                                             0\n",
       "Closing Option                                                                                                                     0\n",
       "TOTAL_CLOSING_AMOUNT                                                                                                               0\n",
       "Total CG Amount                                                                                                                    0\n",
       "Total ACG Amunt                                                                                                                    0\n",
       "Total Elevation Amount                                                                                                             0\n",
       "Total IMM Amount                                                                                                                   0\n",
       "NOLA Planning District Number                                                                                                  83157\n",
       "NOLA Planning District Name                                                                                                    83157\n",
       "NOLA Neighborhood Number                                                                                                       83157\n",
       "NOLA Neighborhood Name                                                                                                         83157\n",
       "STFID                                                                                                                              0\n",
       "Census Block                                                                                                                       0\n",
       "Block Group                                                                                                                        0\n",
       "Census Track                                                                                                                       0\n",
       "Current Damage Assessment                                                                                                          0\n",
       "Current Damage Assessment - Type 1                                                                                                 0\n",
       "Current Damage Assessment - Type 2                                                                                                 0\n",
       "Damage Type 1 or 2                                                                                                                 0\n",
       "Current PSV                                                                                                                        0\n",
       "Current Total DOB Amount (no Legal Fees removed)                                                                                   0\n",
       "Current Legal Fees                                                                                                                 0\n",
       "Closing Damage Assessment                                                                                                          0\n",
       "PSV at Closing                                                                                                                     0\n",
       "Closed file - PSV Option 1 With No ACG -excluding Sold Home, Inelig, Deceased and files closed with RHEI & IMM only -23,912        0\n",
       "Closed File - Option 2/3, Sold Home, Ineligible, Deceased, and Closed with RHEI and IMM Only                                       0\n",
       "Closed with Approved Unmet Needs (Y/N)                                                                                             0\n",
       "Applicant With Current Insurance (Private and/or Flood) Y/N                                                                        0\n",
       "Closing Total DOB Amount                                                                                                           6\n",
       "Difference between Current PSV and Current Damage Assessment Type 2 (col AG - col AC                                               0\n",
       "ARS File (Yes/No)                                                                                                                  0\n",
       "dtype: int64"
      ]
     },
     "execution_count": 37,
     "metadata": {},
     "output_type": "execute_result"
    }
   ],
   "source": [
    "df.isna().sum()"
   ]
  },
  {
   "cell_type": "code",
   "execution_count": 36,
   "metadata": {},
   "outputs": [
    {
     "data": {
      "text/plain": [
       "Unnamed: 0                                                                                                                         0\n",
       "Structure Type                                                                                                                     0\n",
       "GIS City                                                                                                                           0\n",
       "GIS State                                                                                                                          0\n",
       "GIS Zip                                                                                                                            0\n",
       "PARISH                                                                                                                             0\n",
       "Closing Option                                                                                                                     0\n",
       "TOTAL_CLOSING_AMOUNT                                                                                                               0\n",
       "Total CG Amount                                                                                                                    0\n",
       "Total ACG Amunt                                                                                                                    0\n",
       "Total Elevation Amount                                                                                                             0\n",
       "Total IMM Amount                                                                                                                   0\n",
       "NOLA Planning District Number                                                                                                  83157\n",
       "NOLA Planning District Name                                                                                                    83157\n",
       "NOLA Neighborhood Number                                                                                                       83157\n",
       "NOLA Neighborhood Name                                                                                                         83157\n",
       "STFID                                                                                                                              0\n",
       "Census Block                                                                                                                       0\n",
       "Block Group                                                                                                                        0\n",
       "Census Track                                                                                                                       0\n",
       "Current Damage Assessment                                                                                                          0\n",
       "Current Damage Assessment - Type 1                                                                                                 0\n",
       "Current Damage Assessment - Type 2                                                                                                 0\n",
       "Damage Type 1 or 2                                                                                                                 0\n",
       "Current PSV                                                                                                                        0\n",
       "Current Total DOB Amount (no Legal Fees removed)                                                                                   0\n",
       "Current Legal Fees                                                                                                                 0\n",
       "Closing Damage Assessment                                                                                                          0\n",
       "PSV at Closing                                                                                                                     0\n",
       "Closed file - PSV Option 1 With No ACG -excluding Sold Home, Inelig, Deceased and files closed with RHEI & IMM only -23,912        0\n",
       "Closed File - Option 2/3, Sold Home, Ineligible, Deceased, and Closed with RHEI and IMM Only                                       0\n",
       "Closed with Approved Unmet Needs (Y/N)                                                                                             0\n",
       "Applicant With Current Insurance (Private and/or Flood) Y/N                                                                        0\n",
       "Closing Total DOB Amount                                                                                                           6\n",
       "Difference between Current PSV and Current Damage Assessment Type 2 (col AG - col AC                                               0\n",
       "ARS File (Yes/No)                                                                                                                  0\n",
       "BLKIDFP00                                                                                                                          0\n",
       "INTPTLAT00                                                                                                                         0\n",
       "INTPTLON00                                                                                                                         0\n",
       "dtype: int64"
      ]
     },
     "execution_count": 36,
     "metadata": {},
     "output_type": "execute_result"
    }
   ],
   "source": [
    "first_merge_df.isna().sum()"
   ]
  },
  {
   "cell_type": "code",
   "execution_count": 38,
   "metadata": {},
   "outputs": [],
   "source": [
    "first_merge_df.to_csv(\"road_home_with_lat_lon.csv\")"
   ]
  },
  {
   "cell_type": "code",
   "execution_count": 40,
   "metadata": {},
   "outputs": [
    {
     "data": {
      "text/plain": [
       "(93321, 93321)"
      ]
     },
     "execution_count": 40,
     "metadata": {},
     "output_type": "execute_result"
    }
   ],
   "source": [
    "final_gdf[\"BLKIDFP00\"].nunique(), len(final_gdf)"
   ]
  },
  {
   "cell_type": "code",
   "execution_count": 41,
   "metadata": {},
   "outputs": [
    {
     "data": {
      "text/plain": [
       "(22544, 130053)"
      ]
     },
     "execution_count": 41,
     "metadata": {},
     "output_type": "execute_result"
    }
   ],
   "source": [
    "df[\"STFID\"].nunique(), len(df)"
   ]
  },
  {
   "cell_type": "markdown",
   "metadata": {},
   "source": [
    "Exploration"
   ]
  },
  {
   "cell_type": "code",
   "execution_count": 45,
   "metadata": {},
   "outputs": [
    {
     "data": {
      "text/plain": [
       "Single (including mobile home)           105552\n",
       "Duplex (with one owner-occupied unit)      8581\n",
       "Mobile Home on Leased Land                 8065\n",
       "Mobile Home                                5808\n",
       "Townhouse                                   864\n",
       "Condominium                                 551\n",
       "Single Family on Leased Land                524\n",
       "Single                                      107\n",
       "Ineligible                                    1\n",
       "Name: Structure Type, dtype: int64"
      ]
     },
     "execution_count": 45,
     "metadata": {},
     "output_type": "execute_result"
    }
   ],
   "source": [
    "df[\"Structure Type\"].value_counts()"
   ]
  },
  {
   "cell_type": "code",
   "execution_count": null,
   "metadata": {},
   "outputs": [],
   "source": []
  }
 ],
 "metadata": {
  "kernelspec": {
   "display_name": "Python 3.11.3 64-bit",
   "language": "python",
   "name": "python3"
  },
  "language_info": {
   "codemirror_mode": {
    "name": "ipython",
    "version": 3
   },
   "file_extension": ".py",
   "mimetype": "text/x-python",
   "name": "python",
   "nbconvert_exporter": "python",
   "pygments_lexer": "ipython3",
   "version": "3.11.3"
  },
  "orig_nbformat": 4,
  "vscode": {
   "interpreter": {
    "hash": "20e40d8fc09a6690434ad602c7eb2d8de15d36ec466bfbfb0de97c7c540d7363"
   }
  }
 },
 "nbformat": 4,
 "nbformat_minor": 2
}
